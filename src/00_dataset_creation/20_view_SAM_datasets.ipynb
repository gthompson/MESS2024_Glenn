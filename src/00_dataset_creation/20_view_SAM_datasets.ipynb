{
 "cells": [
  {
   "cell_type": "code",
   "execution_count": 1,
   "id": "2e46e0d6-7e9f-4a10-be7f-273ecfda70b9",
   "metadata": {},
   "outputs": [],
   "source": [
    "import os\n",
    "import sys\n",
    "import pandas as pd\n",
    "import obspy\n",
    "sys.path.append('../lib')\n",
    "import setup_paths\n",
    "paths = setup_paths.paths\n",
    "import pipelines\n",
    "import warnings\n",
    "warnings.filterwarnings('ignore')\n",
    "\n",
    "starttime = obspy.core.UTCDateTime(2003,7,12,6,0,0)\n",
    "endtime = obspy.core.UTCDateTime(2003,7,13,6,0,0)\n",
    "  \n",
    "#starttime = obspy.core.UTCDateTime(2000,3,19,0,0,0)\n",
    "#endtime = obspy.core.UTCDateTime(2000,3,22,0,0,0)\n",
    "\n",
    "#starttime = obspy.core.UTCDateTime(1997,12,25,0,0,0)\n",
    "#endtime = obspy.core.UTCDateTime(1997,12,28,0,0,0)"
   ]
  },
  {
   "cell_type": "code",
   "execution_count": null,
   "id": "0fb4e591-9633-4e30-86fa-51332e4c3b1a",
   "metadata": {},
   "outputs": [],
   "source": [
    "pngfiles = pipelines.wrapper_read_select_downsample_plot_all_samclasses(paths['SAM_DIR'], starttime, endtime, sampling_interval=60, metric='median', \\\n",
    "                                                   verticals_only=True, downsample=False, npts=100, savefig=False)"
   ]
  },
  {
   "cell_type": "code",
   "execution_count": null,
   "id": "df4c2860-fd30-4004-873d-21ebed338fbd",
   "metadata": {},
   "outputs": [],
   "source": [
    "from IPython.display import Image, display\n",
    "for pngfile in pngfiles:\n",
    "    print(pngfile)\n",
    "    display(Image(filename=pngfile))\n",
    "    print('\\n\\n\\n')"
   ]
  },
  {
   "cell_type": "code",
   "execution_count": null,
   "id": "0eff70ce-b9ba-4f3c-aabe-dc612ff6b6c7",
   "metadata": {},
   "outputs": [],
   "source": [
    "import numpy as np\n",
    "np.power(3/8, 3)"
   ]
  },
  {
   "cell_type": "code",
   "execution_count": 2,
   "id": "0d07fb68-f173-460f-b1d2-fa0846239b64",
   "metadata": {},
   "outputs": [
    {
     "name": "stdout",
     "output_type": "stream",
     "text": [
      "<class 'SAM.DR'>\n",
      "MV.MBGH..BHZ: 3.0e-05 m at 1 km\n",
      "MV.MBLG..SHZ: 1.5e-03 m at 1 km\n",
      "MV.MBSS..SHZ: 2.3e-05 m at 1 km\n",
      "MV.MBRY..BHZ: 5.0e-05 m at 1 km\n",
      "MV.MBGB..BHZ: 1.2e-04 m at 1 km\n",
      "MV.MBWH..SHZ: 3.2e-05 m at 1 km\n",
      "MV.MBRV..SHZ: 9.5e-04 m at 1 km\n",
      "Network: 5.0e-05 m at 1 km\n",
      "        seed_id        DR\n",
      "0  MV.MBGH..BHZ    302.04\n",
      "1  MV.MBLG..SHZ  14929.18\n",
      "2  MV.MBSS..SHZ    228.77\n",
      "3  MV.MBRY..BHZ    497.69\n",
      "4  MV.MBGB..BHZ   1204.15\n",
      "5  MV.MBWH..SHZ    324.81\n",
      "6  MV.MBRV..SHZ   9545.36\n",
      "7       Network    497.69\n",
      "<class 'SAM.DRS'>\n",
      "MV.MBGH..BHZ: 2.6e-05 m at 1 km\n",
      "MV.MBLG..SHZ: 2.1e-03 m at 1 km\n",
      "MV.MBRY..BHZ: 6.0e-05 m at 1 km\n",
      "MV.MBSS..SHZ: 2.6e-05 m at 1 km\n",
      "MV.MBGB..BHZ: 7.4e-05 m at 1 km\n",
      "MV.MBWH..SHZ: 2.4e-05 m at 1 km\n",
      "MV.MBRV..SHZ: 2.8e-04 m at 1 km\n",
      "Network: 6.0e-05 m at 1 km\n",
      "        seed_id       DRS\n",
      "0  MV.MBGH..BHZ    263.28\n",
      "1  MV.MBLG..SHZ  20955.48\n",
      "2  MV.MBRY..BHZ    596.01\n",
      "3  MV.MBSS..SHZ    263.60\n",
      "4  MV.MBGB..BHZ    742.58\n",
      "5  MV.MBWH..SHZ    239.12\n",
      "6  MV.MBRV..SHZ   2829.15\n",
      "7       Network    596.01\n",
      "MV.MBGH..BHZ: Joules: 1.33e+10, Magnitude: 4.6\n",
      "MV.MBLG..SHZ: Joules: 2.49e+11, Magnitude: 5.5\n",
      "MV.MBRY..BHZ: Joules: 1.87e+10, Magnitude: 4.7\n",
      "MV.MBSS..SHZ: Joules: 5.04e+09, Magnitude: 4.3\n",
      "MV.MBGB..BHZ: Joules: 2.21e+09, Magnitude: 4.1\n",
      "MV.MBWH..SHZ: Joules: 1.23e+10, Magnitude: 4.6\n",
      "MV.MBRV..SHZ: Joules: 3.60e+10, Magnitude: 4.9\n",
      "Network: Joules: 1.33e+10, Magnitude: 4.6\n",
      "        seed_id        Energy  EMag\n",
      "0  MV.MBGH..BHZ  1.328662e+10  4.62\n",
      "1  MV.MBLG..SHZ  2.490750e+11  5.46\n",
      "2  MV.MBRY..BHZ  1.873971e+10  4.72\n",
      "3  MV.MBSS..SHZ  5.041918e+09  4.34\n",
      "4  MV.MBGB..BHZ  2.214673e+09  4.10\n",
      "5  MV.MBWH..SHZ  1.233363e+10  4.59\n",
      "6  MV.MBRV..SHZ  3.597213e+10  4.90\n",
      "7       Network  1.328662e+10  4.62\n"
     ]
    }
   ],
   "source": [
    "results_df = pipelines.compute_network_DR_ME(paths['SAM_DIR'], starttime, endtime, sampling_interval=60, verticals_only=True, \\\n",
    "                        new_sampling_interval=None, savefig=False)"
   ]
  },
  {
   "cell_type": "code",
   "execution_count": 3,
   "id": "cf1fdb48-e785-444f-83a3-42f1595e7d57",
   "metadata": {},
   "outputs": [
    {
     "name": "stdout",
     "output_type": "stream",
     "text": [
      "        seed_id        DR       DRS        Energy  EMag\n",
      "0  MV.MBGH..BHZ    302.04    263.28  1.328662e+10  4.62\n",
      "1  MV.MBLG..SHZ  14929.18  20955.48  2.490750e+11  5.46\n",
      "2  MV.MBSS..SHZ    228.77    263.60  5.041918e+09  4.34\n",
      "3  MV.MBRY..BHZ    497.69    596.01  1.873971e+10  4.72\n",
      "4  MV.MBGB..BHZ   1204.15    742.58  2.214673e+09  4.10\n",
      "5  MV.MBWH..SHZ    324.81    239.12  1.233363e+10  4.59\n",
      "6  MV.MBRV..SHZ   9545.36   2829.15  3.597213e+10  4.90\n",
      "7       Network    497.69    596.01  1.328662e+10  4.62\n"
     ]
    }
   ],
   "source": [
    "#pd.options.display.float_format = '{:.1e}'.format\n",
    "results_df.style.format({\n",
    "    \"DR\": \"{:,.1e}\",\n",
    "    \"DRS\": \"{:,.1e}\",\n",
    "    \"Energy\": \"{:.1e}\",\n",
    "    \"EMag\": \"{:.1f}\"\n",
    "})\n",
    "print(results_df)"
   ]
  },
  {
   "cell_type": "code",
   "execution_count": null,
   "id": "93350fd7-43ce-40fa-8a25-29c1622be2e1",
   "metadata": {},
   "outputs": [],
   "source": []
  }
 ],
 "metadata": {
  "kernelspec": {
   "display_name": "Python 3 (ipykernel)",
   "language": "python",
   "name": "python3"
  },
  "language_info": {
   "codemirror_mode": {
    "name": "ipython",
    "version": 3
   },
   "file_extension": ".py",
   "mimetype": "text/x-python",
   "name": "python",
   "nbconvert_exporter": "python",
   "pygments_lexer": "ipython3",
   "version": "3.10.13"
  }
 },
 "nbformat": 4,
 "nbformat_minor": 5
}
