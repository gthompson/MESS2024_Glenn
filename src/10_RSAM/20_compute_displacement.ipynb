{
 "cells": [
  {
   "cell_type": "markdown",
   "id": "c83825a2-d04c-4c75-8571-f0cf73d1c42e",
   "metadata": {},
   "source": [
    "# Reduced Displacement calculation tutorial\n",
    "\n",
    "# 1. Header"
   ]
  },
  {
   "cell_type": "code",
   "execution_count": null,
   "id": "e70cbb2b-9f23-4b0b-b8b0-66cdf2019a41",
   "metadata": {},
   "outputs": [],
   "source": [
    "import os\n",
    "import sys\n",
    "import time\n",
    "import obspy\n",
    "from obspy.clients.filesystem.sds import Client as sdsclient\n",
    "from obspy.core.inventory.inventory import read_inventory\n",
    "\n",
    "PROJECT_DIR = os.path.join('..','..')\n",
    "LIB_DIR = os.path.join(PROJECT_DIR,'src','lib')\n",
    "sys.path.append(LIB_DIR)\n",
    "from SAM import DSAM\n",
    "import InventoryTools\n",
    "import SDS\n",
    "\n",
    "CONTINUOUS_DATA_DIR = os.path.join(PROJECT_DIR, 'data', 'continuous')\n",
    "SDS_DIR = os.path.join(CONTINUOUS_DATA_DIR, 'SDS')\n",
    "SDS_DIR2 = os.path.join(CONTINUOUS_DATA_DIR, 'SDS_displacement')\n",
    "SAM_DIR = os.path.join(CONTINUOUS_DATA_DIR, 'SAM')\n",
    "\n",
    "#####################################################################################\n",
    "\n",
    "startTime = obspy.core.UTCDateTime(2001,2,25,0,0,0)\n",
    "endTime = obspy.core.UTCDateTime(2001,3,6,0,0,0)\n",
    "secondsPerDay = 60 * 60 * 24\n",
    "numDays = (endTime-startTime)/secondsPerDay\n"
   ]
  },
  {
   "cell_type": "markdown",
   "id": "2c3bd5be-c704-4c46-99dc-ab0fdbceab75",
   "metadata": {},
   "source": [
    "# 2. Write SDS_Displacement archive\n",
    "- Read files from SDS_raw\n",
    "- Correct to Displacement\n",
    "- Write files to SDS_Displacement"
   ]
  },
  {
   "cell_type": "code",
   "execution_count": null,
   "id": "c66a7153-e521-4d6e-96ad-a01d2b894d07",
   "metadata": {},
   "outputs": [],
   "source": [
    "def correct_seed_id(tr):\n",
    "    net, sta, loc, chan = tr.id.split('.')\n",
    "    Fs = tr.stats.sampling_rate\n",
    "    code0 = chan[0]\n",
    "    if Fs < 80.0 and Fs > 20.0:\n",
    "        if chan[0] == 'E': \n",
    "            code0 = 'S'\n",
    "        elif chan[0] == 'H': \n",
    "            code0 = 'B'\n",
    "    elif Fs > 80.0 and Fs < 250.0:\n",
    "        if chan[0] == 'B': \n",
    "            code0 = 'H'\n",
    "        elif chan[0] == 'S': \n",
    "            code0 = 'E'\n",
    "    chan = code0 + chan[1:] \n",
    "\n",
    "mySDSreadClient = sdsclient(SDS_DIR)\n",
    "mySDSwriteClient = SDS.SDSobj(SDS_DIR2, sds_type='D', format='MSEED')\n",
    "\n",
    "pre_filt = (0.01, 0.02, 18.0, 36.0)\n",
    "invMVO = read_inventory('../../data/response/MV.xml', format='stationxml')   \n",
    "inv_ids = InventoryTools.inventory2traceid(invMVO, force_location_code='')\n",
    "\n",
    "smalltime = 0.01\n",
    "daytime = startTime\n",
    "taperSecs = 1800\n",
    "while daytime < endTime:\n",
    "    \n",
    "    print(f'Loading Stream data for {daytime}')\n",
    "    stMV = mySDSreadClient.get_waveforms(\"MV\", \"*\", \"*\", \"[SBEHCD]*\", daytime-taperSecs, daytime+secondsPerDay+taperSecs)\n",
    "    stMV.merge(method=0, fill_value=0)\n",
    "    print(f'- got {len(stMV)} Trace ids') \n",
    "    for tr in stMV:\n",
    "\n",
    "        correct_seed_id(tr)\n",
    "        \n",
    "        if tr.id in inv_ids:\n",
    "            time1 = time.time()\n",
    "            tr.remove_response(inventory=invMVO, pre_filt=pre_filt, output=\"DISP\")\n",
    "            this_st = obspy.core.Stream(traces=tr)\n",
    "            this_st.trim(starttime=daytime, endtime=daytime+secondsPerDay-smalltime)\n",
    "            mySDSwriteClient.stream = this_st\n",
    "            mySDSwriteClient.write(overwrite=False, merge=False)\n",
    "            time2 = time.time()\n",
    "            print(this_st,' took ',time2-time1,' s')\n",
    "        else:\n",
    "            print(f\"{tr.id} not found in MV.xml\")\n",
    "\n",
    "        print(' ')\n",
    "\n",
    "    daytime += secondsPerDay\n",
    "del mySDSreadClient\n",
    "del mySDSwriteClient"
   ]
  },
  {
   "cell_type": "markdown",
   "id": "973082ab-427a-42c0-8f89-7d462a2f12d2",
   "metadata": {},
   "source": [
    "# 3. Write DSAM archive\n",
    "- read data from SDS_Displacement\n",
    "- compute DSAM data\n",
    "- write to DSAM files"
   ]
  },
  {
   "cell_type": "code",
   "execution_count": null,
   "id": "11fc9cdf-fab7-42ae-ae7e-38970ea5fffb",
   "metadata": {},
   "outputs": [],
   "source": [
    "mySDSreadClient = sdsclient(SDS_DIR2)\n",
    "daytime = startTime\n",
    "while daytime < endTime:\n",
    "    time1 = time.time()\n",
    "    print(f'Loading Stream data for {daytime}')\n",
    "    stMV = mySDSreadClient.get_waveforms(\"MV\", \"*\", \"*\", \"[SBEHCD]*\", daytime, daytime+secondsPerDay)\n",
    "    print(f'- got {len(stMV)} Trace ids') \n",
    "    print(f'Computing DSAM metrics for {daytime}, and saving to pickle files')\n",
    "    for tr in stMV:\n",
    "        tr.stats['units'] = 'm'\n",
    "    dsamMV24h = DSAM(stream=stMV, sampling_interval=60)\n",
    "    dsamMV24h.write(SAM_DIR, ext='pickle')\n",
    "    \n",
    "    daytime += secondsPerDay\n",
    "\n",
    "    time2=time.time()\n",
    "    print(f\"- day took {time2-time1} seconds\")\n",
    "\n",
    "del mySDSreadClient"
   ]
  },
  {
   "cell_type": "code",
   "execution_count": null,
   "id": "1a2ab205-faae-499b-a231-2a90fe0329d9",
   "metadata": {},
   "outputs": [],
   "source": []
  }
 ],
 "metadata": {
  "kernelspec": {
   "display_name": "Python 3 (ipykernel)",
   "language": "python",
   "name": "python3"
  },
  "language_info": {
   "codemirror_mode": {
    "name": "ipython",
    "version": 3
   },
   "file_extension": ".py",
   "mimetype": "text/x-python",
   "name": "python",
   "nbconvert_exporter": "python",
   "pygments_lexer": "ipython3",
   "version": "3.10.13"
  }
 },
 "nbformat": 4,
 "nbformat_minor": 5
}
