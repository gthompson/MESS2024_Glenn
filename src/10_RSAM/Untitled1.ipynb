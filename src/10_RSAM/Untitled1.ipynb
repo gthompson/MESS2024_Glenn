{
 "cells": [
  {
   "cell_type": "code",
   "execution_count": null,
   "id": "1a3aceb7-8b8c-40f2-b8b0-2c9995d83a50",
   "metadata": {},
   "outputs": [],
   "source": [
    "#!/usr/bin/env python\n",
    "# coding: utf-8\n",
    "\n",
    "# # Reduced Displacement calculation tutorial\n",
    "# \n",
    "# # 1. Header\n",
    "\n",
    "\n",
    "import os\n",
    "import sys\n",
    "import time\n",
    "import obspy\n",
    "from obspy.clients.filesystem.sds import Client as sdsclient\n",
    "from obspy.core.inventory.inventory import read_inventory\n",
    "\n",
    "PROJECT_DIR = os.path.join('..','..')\n",
    "LIB_DIR = os.path.join(PROJECT_DIR,'src','lib')\n",
    "sys.path.append(LIB_DIR)\n",
    "from SAM import DSAM, DRS\n",
    "import InventoryTools\n",
    "\n",
    "CONTINUOUS_DATA_DIR = os.path.join(PROJECT_DIR, 'data', 'continuous')\n",
    "SAM_DIR = os.path.join(CONTINUOUS_DATA_DIR, 'SAM')\n",
    "\n",
    "#####################################################################################\n",
    "\n",
    "startTime = obspy.core.UTCDateTime(2001,2,25,0,0,0)\n",
    "endTime = obspy.core.UTCDateTime(2001,3,6,0,0,0)\n",
    "secondsPerDay = 60 * 60 * 24\n",
    "numDays = (endTime-startTime)/secondsPerDay"
   ]
  },
  {
   "cell_type": "code",
   "execution_count": null,
   "id": "186ac3aa-2268-48fc-b50a-0cc1c77c16fc",
   "metadata": {},
   "outputs": [],
   "source": [
    "# # 2. Read DSAM archive and plot\n",
    "\n",
    "dsamMV = DSAM.read(startTime, endTime, SAM_DIR=SAM_DIR, sampling_interval=60, ext='pickle')\n",
    "'''\n",
    "#dsamMV.plot(metrics='median', kind='stream', outfile='plots/DSAM_median.png')\n",
    "for metric in ['mean', 'min', 'max', 'std', 'VLP', 'LP', 'VT', 'fratio']:\n",
    "    dsamMV.plot(metrics=metric, kind='stream', outfile=f'plots/DSAM.png') # metric added by plot\n",
    "'''"
   ]
  },
  {
   "cell_type": "code",
   "execution_count": null,
   "id": "e48e913d-3404-4303-8a80-6f7739ceecb3",
   "metadata": {},
   "outputs": [],
   "source": [
    "# # 3. Compute DRS\n",
    "\n",
    "invMVO = read_inventory('../../data/response/MV.xml')\n",
    "source = {'lat':16.71111, 'lon':-62.17722}\n",
    "\n",
    "DRmv = dsamMV.reduce(invMVO, source, surfaceWaves=False, Q=None)\n",
    "DRmv.write(SAM_DIR=SAM_DIR, overwrite=True)\n",
    "DRmvHourly = DRmv.downsample(new_sampling_interval=3600)\n",
    "DRmvHourly.iceweb_plot(outfile='plots/DR_Hourly.png')\n",
    "\n",
    "DRSmv = dsamMV.reduce(invMVO, source, surfaceWaves=True, Q=None)\n",
    "DRSmv.write(SAM_DIR=SAM_DIR, overwrite=True)\n",
    "DRSmvHourly = DRSmv.downsample(new_sampling_interval=3600)\n",
    "DRSmvHourlyZ = DRSmvHourly.select(component='Z')\n",
    "DRSmvHourlyZ.iceweb_plot(outfile='plots/DRS_Hourly.png', linestyle='.')\n",
    "for metric in ['median', 'mean', 'min', 'max', 'std', 'VLP', 'LP', 'VT', 'fratio']:\n",
    "    DRSmvHourlyZ.iceweb_plot(metric=metric, outfile=f'plots/DRS_hourly_{metric}.png', linestyle='.')"
   ]
  },
  {
   "cell_type": "code",
   "execution_count": null,
   "id": "c0c24c8d-a235-4e65-a539-a4ee6e0e9c95",
   "metadata": {},
   "outputs": [],
   "source": [
    "medians, station_corrections = DRSmv.examine_spread()"
   ]
  }
 ],
 "metadata": {
  "kernelspec": {
   "display_name": "Python 3 (ipykernel)",
   "language": "python",
   "name": "python3"
  },
  "language_info": {
   "codemirror_mode": {
    "name": "ipython",
    "version": 3
   },
   "file_extension": ".py",
   "mimetype": "text/x-python",
   "name": "python",
   "nbconvert_exporter": "python",
   "pygments_lexer": "ipython3",
   "version": "3.10.13"
  }
 },
 "nbformat": 4,
 "nbformat_minor": 5
}
